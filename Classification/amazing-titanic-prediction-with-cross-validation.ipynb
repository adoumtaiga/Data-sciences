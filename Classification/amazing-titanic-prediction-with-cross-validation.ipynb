{
 "cells": [
  {
   "cell_type": "markdown",
   "id": "bef633b7",
   "metadata": {
    "papermill": {
     "duration": 0.01078,
     "end_time": "2022-08-15T13:41:30.066452",
     "exception": false,
     "start_time": "2022-08-15T13:41:30.055672",
     "status": "completed"
    },
    "tags": []
   },
   "source": [
    "# Titanic Prediction with Cross Validation"
   ]
  },
  {
   "cell_type": "code",
   "execution_count": 1,
   "id": "478860a7",
   "metadata": {
    "execution": {
     "iopub.execute_input": "2022-08-15T13:41:30.084512Z",
     "iopub.status.busy": "2022-08-15T13:41:30.083897Z",
     "iopub.status.idle": "2022-08-15T13:41:31.659364Z",
     "shell.execute_reply": "2022-08-15T13:41:31.658337Z"
    },
    "papermill": {
     "duration": 1.587739,
     "end_time": "2022-08-15T13:41:31.662232",
     "exception": false,
     "start_time": "2022-08-15T13:41:30.074493",
     "status": "completed"
    },
    "tags": []
   },
   "outputs": [],
   "source": [
    "#Data Analysis\n",
    "import pandas as pd\n",
    "import numpy as np\n",
    "\n",
    "#Machine learning models\n",
    "from sklearn.ensemble import RandomForestClassifier, GradientBoostingClassifier\n",
    "from sklearn.linear_model import LogisticRegression\n",
    "from sklearn.tree import DecisionTreeClassifier\n",
    "from sklearn.neighbors import KNeighborsClassifier\n",
    "from sklearn.neural_network import MLPClassifier\n",
    "from sklearn.model_selection import cross_val_score"
   ]
  },
  {
   "cell_type": "markdown",
   "id": "da991103",
   "metadata": {
    "papermill": {
     "duration": 0.006248,
     "end_time": "2022-08-15T13:41:31.675175",
     "exception": false,
     "start_time": "2022-08-15T13:41:31.668927",
     "status": "completed"
    },
    "tags": []
   },
   "source": [
    "## Aqcuering the dataset "
   ]
  },
  {
   "cell_type": "code",
   "execution_count": 2,
   "id": "42d0b54c",
   "metadata": {
    "execution": {
     "iopub.execute_input": "2022-08-15T13:41:31.690479Z",
     "iopub.status.busy": "2022-08-15T13:41:31.689712Z",
     "iopub.status.idle": "2022-08-15T13:41:31.721037Z",
     "shell.execute_reply": "2022-08-15T13:41:31.719792Z"
    },
    "papermill": {
     "duration": 0.042413,
     "end_time": "2022-08-15T13:41:31.724163",
     "exception": false,
     "start_time": "2022-08-15T13:41:31.681750",
     "status": "completed"
    },
    "tags": []
   },
   "outputs": [],
   "source": [
    "train = pd.read_csv(\"../input/titanic/train.csv\", index_col = 'PassengerId')"
   ]
  },
  {
   "cell_type": "markdown",
   "id": "9619c62a",
   "metadata": {
    "papermill": {
     "duration": 0.009377,
     "end_time": "2022-08-15T13:41:31.741618",
     "exception": false,
     "start_time": "2022-08-15T13:41:31.732241",
     "status": "completed"
    },
    "tags": []
   },
   "source": [
    "Lets take a look at the stucture of our dataset"
   ]
  },
  {
   "cell_type": "code",
   "execution_count": 3,
   "id": "d3a1c97a",
   "metadata": {
    "execution": {
     "iopub.execute_input": "2022-08-15T13:41:31.760815Z",
     "iopub.status.busy": "2022-08-15T13:41:31.759468Z",
     "iopub.status.idle": "2022-08-15T13:41:31.840269Z",
     "shell.execute_reply": "2022-08-15T13:41:31.838845Z"
    },
    "papermill": {
     "duration": 0.09325,
     "end_time": "2022-08-15T13:41:31.843765",
     "exception": false,
     "start_time": "2022-08-15T13:41:31.750515",
     "status": "completed"
    },
    "tags": []
   },
   "outputs": [
    {
     "name": "stdout",
     "output_type": "stream",
     "text": [
      "(891, 11)\n",
      "----------------------------------------\n",
      "<class 'pandas.core.frame.DataFrame'>\n",
      "Int64Index: 891 entries, 1 to 891\n",
      "Data columns (total 11 columns):\n",
      " #   Column    Non-Null Count  Dtype  \n",
      "---  ------    --------------  -----  \n",
      " 0   Survived  891 non-null    int64  \n",
      " 1   Pclass    891 non-null    int64  \n",
      " 2   Name      891 non-null    object \n",
      " 3   Sex       891 non-null    object \n",
      " 4   Age       714 non-null    float64\n",
      " 5   SibSp     891 non-null    int64  \n",
      " 6   Parch     891 non-null    int64  \n",
      " 7   Ticket    891 non-null    object \n",
      " 8   Fare      891 non-null    float64\n",
      " 9   Cabin     204 non-null    object \n",
      " 10  Embarked  889 non-null    object \n",
      "dtypes: float64(2), int64(4), object(5)\n",
      "memory usage: 83.5+ KB\n",
      "None\n",
      "--------------------------------------------------\n",
      "         Survived      Pclass         Age       SibSp       Parch        Fare\n",
      "count  891.000000  891.000000  714.000000  891.000000  891.000000  891.000000\n",
      "mean     0.383838    2.308642   29.699118    0.523008    0.381594   32.204208\n",
      "std      0.486592    0.836071   14.526497    1.102743    0.806057   49.693429\n",
      "min      0.000000    1.000000    0.420000    0.000000    0.000000    0.000000\n",
      "25%      0.000000    2.000000   20.125000    0.000000    0.000000    7.910400\n",
      "50%      0.000000    3.000000   28.000000    0.000000    0.000000   14.454200\n",
      "75%      1.000000    3.000000   38.000000    1.000000    0.000000   31.000000\n",
      "max      1.000000    3.000000   80.000000    8.000000    6.000000  512.329200\n",
      "--------------------------------------------------\n",
      "                           Name   Sex  Ticket    Cabin Embarked\n",
      "count                       891   891     891      204      889\n",
      "unique                      891     2     681      147        3\n",
      "top     Braund, Mr. Owen Harris  male  347082  B96 B98        S\n",
      "freq                          1   577       7        4      644\n",
      "--------------------------------------------------\n",
      "             Survived  Pclass  \\\n",
      "PassengerId                     \n",
      "1                   0       3   \n",
      "2                   1       1   \n",
      "3                   1       3   \n",
      "4                   1       1   \n",
      "5                   0       3   \n",
      "\n",
      "                                                          Name     Sex   Age  \\\n",
      "PassengerId                                                                    \n",
      "1                                      Braund, Mr. Owen Harris    male  22.0   \n",
      "2            Cumings, Mrs. John Bradley (Florence Briggs Th...  female  38.0   \n",
      "3                                       Heikkinen, Miss. Laina  female  26.0   \n",
      "4                 Futrelle, Mrs. Jacques Heath (Lily May Peel)  female  35.0   \n",
      "5                                     Allen, Mr. William Henry    male  35.0   \n",
      "\n",
      "             SibSp  Parch            Ticket     Fare Cabin Embarked  \n",
      "PassengerId                                                          \n",
      "1                1      0         A/5 21171   7.2500   NaN        S  \n",
      "2                1      0          PC 17599  71.2833   C85        C  \n",
      "3                0      0  STON/O2. 3101282   7.9250   NaN        S  \n",
      "4                1      0            113803  53.1000  C123        S  \n",
      "5                0      0            373450   8.0500   NaN        S  \n"
     ]
    }
   ],
   "source": [
    "print(train.shape)\n",
    "print('-'*40)\n",
    "print(train.info())\n",
    "print('-'*50)\n",
    "print(train.describe())\n",
    "print('-'*50)\n",
    "print(train.describe(include=['O']))\n",
    "print('-'*50)\n",
    "print(train.head(5))"
   ]
  },
  {
   "cell_type": "markdown",
   "id": "0122c488",
   "metadata": {
    "papermill": {
     "duration": 0.008379,
     "end_time": "2022-08-15T13:41:31.858992",
     "exception": false,
     "start_time": "2022-08-15T13:41:31.850613",
     "status": "completed"
    },
    "tags": []
   },
   "source": [
    "**What can we observe from our dataset ?**\n",
    "\n",
    "* We have 891 observations and 11 variables\n",
    "* We have 6 quantitatives and 5 qualitatives\n",
    "* Variables _Age_,_Cabin_ and _Embarked_ seemed to be having missing values.\n",
    "* Ticket Variable seems to be less usefull and may be droped\n"
   ]
  },
  {
   "cell_type": "markdown",
   "id": "cf8a1e9e",
   "metadata": {
    "papermill": {
     "duration": 0.006397,
     "end_time": "2022-08-15T13:41:31.874818",
     "exception": false,
     "start_time": "2022-08-15T13:41:31.868421",
     "status": "completed"
    },
    "tags": []
   },
   "source": [
    "**Missing values detection and imputation**"
   ]
  },
  {
   "cell_type": "code",
   "execution_count": 4,
   "id": "43e25098",
   "metadata": {
    "execution": {
     "iopub.execute_input": "2022-08-15T13:41:31.890813Z",
     "iopub.status.busy": "2022-08-15T13:41:31.890089Z",
     "iopub.status.idle": "2022-08-15T13:41:31.904849Z",
     "shell.execute_reply": "2022-08-15T13:41:31.903936Z"
    },
    "papermill": {
     "duration": 0.025537,
     "end_time": "2022-08-15T13:41:31.907165",
     "exception": false,
     "start_time": "2022-08-15T13:41:31.881628",
     "status": "completed"
    },
    "tags": []
   },
   "outputs": [
    {
     "data": {
      "text/plain": [
       "Cabin       77.104377\n",
       "Age         19.865320\n",
       "Embarked     0.224467\n",
       "Survived     0.000000\n",
       "Pclass       0.000000\n",
       "Name         0.000000\n",
       "Sex          0.000000\n",
       "SibSp        0.000000\n",
       "Parch        0.000000\n",
       "Ticket       0.000000\n",
       "Fare         0.000000\n",
       "dtype: float64"
      ]
     },
     "execution_count": 4,
     "metadata": {},
     "output_type": "execute_result"
    }
   ],
   "source": [
    "(train.isnull().sum().sort_values(ascending=False)*100)/train.shape[0]"
   ]
  },
  {
   "cell_type": "markdown",
   "id": "e1a9a44c",
   "metadata": {
    "papermill": {
     "duration": 0.006906,
     "end_time": "2022-08-15T13:41:31.920929",
     "exception": false,
     "start_time": "2022-08-15T13:41:31.914023",
     "status": "completed"
    },
    "tags": []
   },
   "source": [
    "* _Cabin_ variable contains **77.10%** of missing values so its can be said to be useless for us, so it will droped.\n",
    "* _Age_ variable contains **19.87%** of missing values and so can be imputed using a chosen method\n",
    "* Lastly the _Embarked_ variable contain less than **1%** of missing values so can easily be imputed using a choosen methode."
   ]
  },
  {
   "cell_type": "code",
   "execution_count": 5,
   "id": "a6560499",
   "metadata": {
    "execution": {
     "iopub.execute_input": "2022-08-15T13:41:31.936523Z",
     "iopub.status.busy": "2022-08-15T13:41:31.936021Z",
     "iopub.status.idle": "2022-08-15T13:41:31.943290Z",
     "shell.execute_reply": "2022-08-15T13:41:31.941908Z"
    },
    "papermill": {
     "duration": 0.017855,
     "end_time": "2022-08-15T13:41:31.945581",
     "exception": false,
     "start_time": "2022-08-15T13:41:31.927726",
     "status": "completed"
    },
    "tags": []
   },
   "outputs": [],
   "source": [
    "#deleting of un needed columns\n",
    "train.drop(['Cabin','Ticket','Name'], axis=1 ,inplace=True)"
   ]
  },
  {
   "cell_type": "code",
   "execution_count": 6,
   "id": "c220aafa",
   "metadata": {
    "execution": {
     "iopub.execute_input": "2022-08-15T13:41:31.962821Z",
     "iopub.status.busy": "2022-08-15T13:41:31.962044Z",
     "iopub.status.idle": "2022-08-15T13:41:31.968290Z",
     "shell.execute_reply": "2022-08-15T13:41:31.967071Z"
    },
    "papermill": {
     "duration": 0.018011,
     "end_time": "2022-08-15T13:41:31.970630",
     "exception": false,
     "start_time": "2022-08-15T13:41:31.952619",
     "status": "completed"
    },
    "tags": []
   },
   "outputs": [],
   "source": [
    "#Imputing missing values for Age variable with the mean\n",
    "\n",
    "train.Age = train.Age.fillna(train.Age.median())"
   ]
  },
  {
   "cell_type": "code",
   "execution_count": 7,
   "id": "78163309",
   "metadata": {
    "execution": {
     "iopub.execute_input": "2022-08-15T13:41:31.986789Z",
     "iopub.status.busy": "2022-08-15T13:41:31.986120Z",
     "iopub.status.idle": "2022-08-15T13:41:31.999066Z",
     "shell.execute_reply": "2022-08-15T13:41:31.998214Z"
    },
    "papermill": {
     "duration": 0.023981,
     "end_time": "2022-08-15T13:41:32.001633",
     "exception": false,
     "start_time": "2022-08-15T13:41:31.977652",
     "status": "completed"
    },
    "tags": []
   },
   "outputs": [],
   "source": [
    "#Imputing missing values for Embarked variable with the most frequent\n",
    "\n",
    "train = train.apply(lambda x:x.fillna(x.value_counts().index[0]))"
   ]
  },
  {
   "cell_type": "markdown",
   "id": "4400e57e",
   "metadata": {
    "papermill": {
     "duration": 0.006734,
     "end_time": "2022-08-15T13:41:32.016307",
     "exception": false,
     "start_time": "2022-08-15T13:41:32.009573",
     "status": "completed"
    },
    "tags": []
   },
   "source": [
    "Now we can passe to the the preprocessing stage\n",
    "\n",
    "### Transforming the qualitatives variables into quantitative\n"
   ]
  },
  {
   "cell_type": "code",
   "execution_count": 8,
   "id": "3375f5e3",
   "metadata": {
    "execution": {
     "iopub.execute_input": "2022-08-15T13:41:32.032404Z",
     "iopub.status.busy": "2022-08-15T13:41:32.031738Z",
     "iopub.status.idle": "2022-08-15T13:41:32.050326Z",
     "shell.execute_reply": "2022-08-15T13:41:32.049205Z"
    },
    "papermill": {
     "duration": 0.029506,
     "end_time": "2022-08-15T13:41:32.052835",
     "exception": false,
     "start_time": "2022-08-15T13:41:32.023329",
     "status": "completed"
    },
    "tags": []
   },
   "outputs": [
    {
     "data": {
      "text/html": [
       "<div>\n",
       "<style scoped>\n",
       "    .dataframe tbody tr th:only-of-type {\n",
       "        vertical-align: middle;\n",
       "    }\n",
       "\n",
       "    .dataframe tbody tr th {\n",
       "        vertical-align: top;\n",
       "    }\n",
       "\n",
       "    .dataframe thead th {\n",
       "        text-align: right;\n",
       "    }\n",
       "</style>\n",
       "<table border=\"1\" class=\"dataframe\">\n",
       "  <thead>\n",
       "    <tr style=\"text-align: right;\">\n",
       "      <th></th>\n",
       "      <th>Survived</th>\n",
       "      <th>Pclass</th>\n",
       "      <th>Sex</th>\n",
       "      <th>Age</th>\n",
       "      <th>SibSp</th>\n",
       "      <th>Parch</th>\n",
       "      <th>Fare</th>\n",
       "      <th>Embarked</th>\n",
       "    </tr>\n",
       "    <tr>\n",
       "      <th>PassengerId</th>\n",
       "      <th></th>\n",
       "      <th></th>\n",
       "      <th></th>\n",
       "      <th></th>\n",
       "      <th></th>\n",
       "      <th></th>\n",
       "      <th></th>\n",
       "      <th></th>\n",
       "    </tr>\n",
       "  </thead>\n",
       "  <tbody>\n",
       "    <tr>\n",
       "      <th>1</th>\n",
       "      <td>0</td>\n",
       "      <td>3</td>\n",
       "      <td>0</td>\n",
       "      <td>22.0</td>\n",
       "      <td>1</td>\n",
       "      <td>0</td>\n",
       "      <td>7.2500</td>\n",
       "      <td>2</td>\n",
       "    </tr>\n",
       "    <tr>\n",
       "      <th>2</th>\n",
       "      <td>1</td>\n",
       "      <td>1</td>\n",
       "      <td>1</td>\n",
       "      <td>38.0</td>\n",
       "      <td>1</td>\n",
       "      <td>0</td>\n",
       "      <td>71.2833</td>\n",
       "      <td>1</td>\n",
       "    </tr>\n",
       "    <tr>\n",
       "      <th>3</th>\n",
       "      <td>1</td>\n",
       "      <td>3</td>\n",
       "      <td>1</td>\n",
       "      <td>26.0</td>\n",
       "      <td>0</td>\n",
       "      <td>0</td>\n",
       "      <td>7.9250</td>\n",
       "      <td>2</td>\n",
       "    </tr>\n",
       "    <tr>\n",
       "      <th>4</th>\n",
       "      <td>1</td>\n",
       "      <td>1</td>\n",
       "      <td>1</td>\n",
       "      <td>35.0</td>\n",
       "      <td>1</td>\n",
       "      <td>0</td>\n",
       "      <td>53.1000</td>\n",
       "      <td>2</td>\n",
       "    </tr>\n",
       "    <tr>\n",
       "      <th>5</th>\n",
       "      <td>0</td>\n",
       "      <td>3</td>\n",
       "      <td>0</td>\n",
       "      <td>35.0</td>\n",
       "      <td>0</td>\n",
       "      <td>0</td>\n",
       "      <td>8.0500</td>\n",
       "      <td>2</td>\n",
       "    </tr>\n",
       "  </tbody>\n",
       "</table>\n",
       "</div>"
      ],
      "text/plain": [
       "             Survived  Pclass  Sex   Age  SibSp  Parch     Fare  Embarked\n",
       "PassengerId                                                              \n",
       "1                   0       3    0  22.0      1      0   7.2500         2\n",
       "2                   1       1    1  38.0      1      0  71.2833         1\n",
       "3                   1       3    1  26.0      0      0   7.9250         2\n",
       "4                   1       1    1  35.0      1      0  53.1000         2\n",
       "5                   0       3    0  35.0      0      0   8.0500         2"
      ]
     },
     "execution_count": 8,
     "metadata": {},
     "output_type": "execute_result"
    }
   ],
   "source": [
    "train['Sex'] = train['Sex'].map( {'female': 1, 'male': 0} ).astype(int)\n",
    "train['Embarked'] = train['Embarked'].map( {'Q': 0, 'C': 1,'S':2} ).astype(int)\n",
    "train.head()"
   ]
  },
  {
   "cell_type": "code",
   "execution_count": 9,
   "id": "ac7a0918",
   "metadata": {
    "execution": {
     "iopub.execute_input": "2022-08-15T13:41:32.069030Z",
     "iopub.status.busy": "2022-08-15T13:41:32.068263Z",
     "iopub.status.idle": "2022-08-15T13:41:32.074760Z",
     "shell.execute_reply": "2022-08-15T13:41:32.073858Z"
    },
    "papermill": {
     "duration": 0.01733,
     "end_time": "2022-08-15T13:41:32.077150",
     "exception": false,
     "start_time": "2022-08-15T13:41:32.059820",
     "status": "completed"
    },
    "tags": []
   },
   "outputs": [],
   "source": [
    "X = train.drop('Survived',axis=1)\n",
    "y = train['Survived']"
   ]
  },
  {
   "cell_type": "markdown",
   "id": "43e06bb8",
   "metadata": {
    "execution": {
     "iopub.execute_input": "2022-08-13T22:54:09.561480Z",
     "iopub.status.busy": "2022-08-13T22:54:09.561047Z",
     "iopub.status.idle": "2022-08-13T22:54:09.576822Z",
     "shell.execute_reply": "2022-08-13T22:54:09.575931Z",
     "shell.execute_reply.started": "2022-08-13T22:54:09.561443Z"
    },
    "papermill": {
     "duration": 0.006555,
     "end_time": "2022-08-15T13:41:32.090524",
     "exception": false,
     "start_time": "2022-08-15T13:41:32.083969",
     "status": "completed"
    },
    "tags": []
   },
   "source": [
    "## K-Fold Cross Validation Methode"
   ]
  },
  {
   "cell_type": "markdown",
   "id": "b723220a",
   "metadata": {
    "papermill": {
     "duration": 0.006511,
     "end_time": "2022-08-15T13:41:32.103777",
     "exception": false,
     "start_time": "2022-08-15T13:41:32.097266",
     "status": "completed"
    },
    "tags": []
   },
   "source": [
    "**Decision Tree**"
   ]
  },
  {
   "cell_type": "code",
   "execution_count": 10,
   "id": "992ae89b",
   "metadata": {
    "execution": {
     "iopub.execute_input": "2022-08-15T13:41:32.119453Z",
     "iopub.status.busy": "2022-08-15T13:41:32.118716Z",
     "iopub.status.idle": "2022-08-15T13:41:32.182520Z",
     "shell.execute_reply": "2022-08-15T13:41:32.180753Z"
    },
    "papermill": {
     "duration": 0.074984,
     "end_time": "2022-08-15T13:41:32.185491",
     "exception": false,
     "start_time": "2022-08-15T13:41:32.110507",
     "status": "completed"
    },
    "tags": []
   },
   "outputs": [
    {
     "name": "stdout",
     "output_type": "stream",
     "text": [
      "0.7857343951093951 0.049070364795654756\n"
     ]
    }
   ],
   "source": [
    "#Decision Tree\n",
    "Dt = DecisionTreeClassifier()\n",
    "scores_Dt = cross_val_score(Dt, X, y, cv = 8)\n",
    "print(scores_Dt.mean(), scores_Dt.std())"
   ]
  },
  {
   "cell_type": "markdown",
   "id": "da17f719",
   "metadata": {
    "papermill": {
     "duration": 0.006886,
     "end_time": "2022-08-15T13:41:32.199680",
     "exception": false,
     "start_time": "2022-08-15T13:41:32.192794",
     "status": "completed"
    },
    "tags": []
   },
   "source": [
    "**Logistique Regression**"
   ]
  },
  {
   "cell_type": "code",
   "execution_count": 11,
   "id": "37950838",
   "metadata": {
    "execution": {
     "iopub.execute_input": "2022-08-15T13:41:32.216306Z",
     "iopub.status.busy": "2022-08-15T13:41:32.215032Z",
     "iopub.status.idle": "2022-08-15T13:41:32.474554Z",
     "shell.execute_reply": "2022-08-15T13:41:32.472735Z"
    },
    "papermill": {
     "duration": 0.271431,
     "end_time": "2022-08-15T13:41:32.478166",
     "exception": false,
     "start_time": "2022-08-15T13:41:32.206735",
     "status": "completed"
    },
    "tags": []
   },
   "outputs": [
    {
     "name": "stdout",
     "output_type": "stream",
     "text": [
      "0.7957388191763193 0.030352610644971884\n"
     ]
    }
   ],
   "source": [
    "#Logistique regression\n",
    "glm = LogisticRegression(max_iter=300)\n",
    "scores_glm = cross_val_score(glm, X, y, cv = 8)\n",
    "print(scores_glm.mean(), scores_glm.std())"
   ]
  },
  {
   "cell_type": "markdown",
   "id": "7a357573",
   "metadata": {
    "papermill": {
     "duration": 0.007081,
     "end_time": "2022-08-15T13:41:32.493036",
     "exception": false,
     "start_time": "2022-08-15T13:41:32.485955",
     "status": "completed"
    },
    "tags": []
   },
   "source": [
    "**Gradient Boosting Classifier**"
   ]
  },
  {
   "cell_type": "code",
   "execution_count": 12,
   "id": "5ec9f611",
   "metadata": {
    "execution": {
     "iopub.execute_input": "2022-08-15T13:41:32.510351Z",
     "iopub.status.busy": "2022-08-15T13:41:32.509612Z",
     "iopub.status.idle": "2022-08-15T13:41:35.198716Z",
     "shell.execute_reply": "2022-08-15T13:41:35.197523Z"
    },
    "papermill": {
     "duration": 2.702081,
     "end_time": "2022-08-15T13:41:35.202338",
     "exception": false,
     "start_time": "2022-08-15T13:41:32.500257",
     "status": "completed"
    },
    "tags": []
   },
   "outputs": [
    {
     "name": "stdout",
     "output_type": "stream",
     "text": [
      "0.8283059845559846 0.03268820370907079\n"
     ]
    }
   ],
   "source": [
    "#\n",
    "grd = GradientBoostingClassifier(n_estimators=300)\n",
    "scores_grd = cross_val_score(grd, X, y, cv = 8)\n",
    "print(scores_grd.mean(), scores_grd.std())"
   ]
  },
  {
   "cell_type": "markdown",
   "id": "9a3e0500",
   "metadata": {
    "papermill": {
     "duration": 0.006833,
     "end_time": "2022-08-15T13:41:35.217697",
     "exception": false,
     "start_time": "2022-08-15T13:41:35.210864",
     "status": "completed"
    },
    "tags": []
   },
   "source": [
    "**Random Forest Classifier**"
   ]
  },
  {
   "cell_type": "code",
   "execution_count": 13,
   "id": "b9095ed1",
   "metadata": {
    "execution": {
     "iopub.execute_input": "2022-08-15T13:41:35.234331Z",
     "iopub.status.busy": "2022-08-15T13:41:35.233630Z",
     "iopub.status.idle": "2022-08-15T13:41:38.809479Z",
     "shell.execute_reply": "2022-08-15T13:41:38.808216Z"
    },
    "papermill": {
     "duration": 3.587568,
     "end_time": "2022-08-15T13:41:38.812337",
     "exception": false,
     "start_time": "2022-08-15T13:41:35.224769",
     "status": "completed"
    },
    "tags": []
   },
   "outputs": [
    {
     "name": "stdout",
     "output_type": "stream",
     "text": [
      "0.8159426204728218 0.02729052769943232\n"
     ]
    }
   ],
   "source": [
    "#Random Forest Classifier\n",
    "rand = RandomForestClassifier(n_estimators=300)\n",
    "scores_rand = cross_val_score(rand, X, y, cv = 6)\n",
    "print(scores_rand.mean(), scores_rand.std())"
   ]
  },
  {
   "cell_type": "markdown",
   "id": "30531691",
   "metadata": {
    "papermill": {
     "duration": 0.006937,
     "end_time": "2022-08-15T13:41:38.826637",
     "exception": false,
     "start_time": "2022-08-15T13:41:38.819700",
     "status": "completed"
    },
    "tags": []
   },
   "source": [
    "**Neural Network**"
   ]
  },
  {
   "cell_type": "code",
   "execution_count": 14,
   "id": "b7be0200",
   "metadata": {
    "execution": {
     "iopub.execute_input": "2022-08-15T13:41:38.842436Z",
     "iopub.status.busy": "2022-08-15T13:41:38.842017Z",
     "iopub.status.idle": "2022-08-15T13:41:51.049507Z",
     "shell.execute_reply": "2022-08-15T13:41:51.048295Z"
    },
    "papermill": {
     "duration": 12.220448,
     "end_time": "2022-08-15T13:41:51.054153",
     "exception": false,
     "start_time": "2022-08-15T13:41:38.833705",
     "status": "completed"
    },
    "tags": []
   },
   "outputs": [
    {
     "name": "stderr",
     "output_type": "stream",
     "text": [
      "/opt/conda/lib/python3.7/site-packages/sklearn/neural_network/_multilayer_perceptron.py:696: ConvergenceWarning: Stochastic Optimizer: Maximum iterations (300) reached and the optimization hasn't converged yet.\n",
      "  ConvergenceWarning,\n",
      "/opt/conda/lib/python3.7/site-packages/sklearn/neural_network/_multilayer_perceptron.py:696: ConvergenceWarning: Stochastic Optimizer: Maximum iterations (300) reached and the optimization hasn't converged yet.\n",
      "  ConvergenceWarning,\n"
     ]
    },
    {
     "name": "stdout",
     "output_type": "stream",
     "text": [
      "0.8114241473616474 0.02821914773460174\n"
     ]
    }
   ],
   "source": [
    "#Neural Network\n",
    "mlp = MLPClassifier(max_iter=300)\n",
    "scores_mlp = cross_val_score(mlp, X, y, cv = 8)\n",
    "print(scores_mlp.mean(), scores_mlp.std())"
   ]
  },
  {
   "cell_type": "markdown",
   "id": "0895480a",
   "metadata": {
    "papermill": {
     "duration": 0.018477,
     "end_time": "2022-08-15T13:41:51.092197",
     "exception": false,
     "start_time": "2022-08-15T13:41:51.073720",
     "status": "completed"
    },
    "tags": []
   },
   "source": [
    "KNN"
   ]
  },
  {
   "cell_type": "code",
   "execution_count": 15,
   "id": "7d0fd883",
   "metadata": {
    "execution": {
     "iopub.execute_input": "2022-08-15T13:41:51.133254Z",
     "iopub.status.busy": "2022-08-15T13:41:51.132424Z",
     "iopub.status.idle": "2022-08-15T13:41:51.237922Z",
     "shell.execute_reply": "2022-08-15T13:41:51.236606Z"
    },
    "papermill": {
     "duration": 0.129749,
     "end_time": "2022-08-15T13:41:51.240959",
     "exception": false,
     "start_time": "2022-08-15T13:41:51.111210",
     "status": "completed"
    },
    "tags": []
   },
   "outputs": [
    {
     "name": "stdout",
     "output_type": "stream",
     "text": [
      "0.6937238577863578 0.04246311865876194\n"
     ]
    }
   ],
   "source": [
    "#KNN\n",
    "knn = KNeighborsClassifier()\n",
    "scores_knn = cross_val_score(knn, X, y, cv = 8)\n",
    "print(scores_knn.mean(), scores_knn.std())"
   ]
  },
  {
   "cell_type": "markdown",
   "id": "0a0664af",
   "metadata": {
    "papermill": {
     "duration": 0.007193,
     "end_time": "2022-08-15T13:41:51.256058",
     "exception": false,
     "start_time": "2022-08-15T13:41:51.248865",
     "status": "completed"
    },
    "tags": []
   },
   "source": [
    "**Gradient Boosting Classifier (82%) outperforms the other four models on all performance measures.**\n",
    "\n",
    "## **Thanks and see you Next time!!!!** :-)"
   ]
  }
 ],
 "metadata": {
  "kernelspec": {
   "display_name": "Python 3",
   "language": "python",
   "name": "python3"
  },
  "language_info": {
   "codemirror_mode": {
    "name": "ipython",
    "version": 3
   },
   "file_extension": ".py",
   "mimetype": "text/x-python",
   "name": "python",
   "nbconvert_exporter": "python",
   "pygments_lexer": "ipython3",
   "version": "3.7.12"
  },
  "papermill": {
   "default_parameters": {},
   "duration": 31.892832,
   "end_time": "2022-08-15T13:41:52.189777",
   "environment_variables": {},
   "exception": null,
   "input_path": "__notebook__.ipynb",
   "output_path": "__notebook__.ipynb",
   "parameters": {},
   "start_time": "2022-08-15T13:41:20.296945",
   "version": "2.3.4"
  }
 },
 "nbformat": 4,
 "nbformat_minor": 5
}
